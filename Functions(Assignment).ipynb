{
 "cells": [
  {
   "cell_type": "raw",
   "id": "7a8fd33e-f38e-4aaa-87a5-99086b90867a",
   "metadata": {},
   "source": [
    "Q1] What is the difference between a function and a method in Python?\n",
    "\n",
    "Ans :Function - \n",
    "        A function is like a general tool that can be used on various types of data.\n",
    "        Defined outside of classes.\n",
    "        Called independently without any association with objects.\n",
    "        Called directly, e.g., my_function().\n",
    "     Method -\n",
    "        A method is a specific tool designed for a particular type of object.\n",
    "        Defined within a class.\n",
    "        Always called on an object\n",
    "        Called using the object, e.g., obj.my_method()."
   ]
  },
  {
   "cell_type": "raw",
   "id": "0d537250-99d8-46b6-9240-5ff1a8ad35d0",
   "metadata": {},
   "source": [
    "Q2] Explain the concept of function arguments and parameters in Python?\n",
    "Ans : Parameter's -\n",
    "        Variables in the function definition.\t\n",
    "        To define what the function expects.\t\n",
    "        Exist only in the function definition\n",
    "      Argument's\n",
    "        Actual values passed to the function call.\n",
    "        To provide data for the function to use.\n",
    "        Exist only during the function call."
   ]
  },
  {
   "cell_type": "code",
   "execution_count": 273,
   "id": "e657e0bd-e073-42a0-82ba-6b4127d9cbd5",
   "metadata": {},
   "outputs": [
    {
     "name": "stdout",
     "output_type": "stream",
     "text": [
      "Hello  Manoj\n"
     ]
    }
   ],
   "source": [
    "def greet(name):\n",
    "    # name -: parameter \n",
    "    print(\"Hello \", name)\n",
    "\n",
    "greet(\"Manoj\")\n",
    "    # \"Manoj\" -: argument"
   ]
  },
  {
   "cell_type": "raw",
   "id": "1826380f-3983-44ca-b6c0-3e589fef7d4b",
   "metadata": {},
   "source": [
    "Q3] What are the different ways to define and call a function in Python?\n",
    "Ans : \n",
    "        1] General function { def func_name(args): }\n",
    "        2] Lambda function { lambda(argument : expression) } \n",
    "        3] Recursive function (functions within functions)\n",
    "        4] Functions with default arguments { def func_name(x, y, z=0): }\n",
    "        5] Functions with variable length arguments'\n",
    "            def func_name(*args) --> tuple argument\n",
    "            def func_name(**kwargs) --> dictionary argument(key - value pair)\n",
    "        6] Generator functions { yeilds }"
   ]
  },
  {
   "cell_type": "raw",
   "id": "2780eddf-b691-4587-b335-42fbe6787739",
   "metadata": {},
   "source": [
    "Q4] What is the purpose of the `return` statement in a Python function?\n",
    "Ans :The return statement:\n",
    "        To provide an output value.\n",
    "        Sends data or results from a function back to the caller.\n",
    "        Terminates the function's execution.\n",
    "        Can return multiple values, or even no value (None).\n",
    "        Allows flexibility by returning objects of any type."
   ]
  },
  {
   "cell_type": "raw",
   "id": "74cc26a6-288e-45e5-82a9-54ed420e0870",
   "metadata": {},
   "source": [
    "Q5] What are iterators in Python and how do they differ from iterables?\n",
    "Ans :Iterator's -:\n",
    "        Iterator is an object representing a stream of data, which returns each of its element one by one."
   ]
  },
  {
   "cell_type": "code",
   "execution_count": 289,
   "id": "fad2224c-812d-4702-acf9-86c6c155220d",
   "metadata": {},
   "outputs": [],
   "source": [
    "lis = [1, 2, 3, 4, 5]\n",
    "l = iter(lis)"
   ]
  },
  {
   "cell_type": "code",
   "execution_count": 291,
   "id": "a07efeda-ba03-4000-98ad-5f6c13c6dc6d",
   "metadata": {},
   "outputs": [
    {
     "data": {
      "text/plain": [
       "1"
      ]
     },
     "execution_count": 291,
     "metadata": {},
     "output_type": "execute_result"
    }
   ],
   "source": [
    "next(l)"
   ]
  },
  {
   "cell_type": "code",
   "execution_count": 293,
   "id": "0afc395f-5cb8-4f7d-bff8-343a9496aa02",
   "metadata": {},
   "outputs": [
    {
     "data": {
      "text/plain": [
       "2"
      ]
     },
     "execution_count": 293,
     "metadata": {},
     "output_type": "execute_result"
    }
   ],
   "source": [
    "next(l)"
   ]
  },
  {
   "cell_type": "code",
   "execution_count": 295,
   "id": "04a7027f-ddb5-462a-a34b-3815d4acd074",
   "metadata": {},
   "outputs": [
    {
     "data": {
      "text/plain": [
       "3"
      ]
     },
     "execution_count": 295,
     "metadata": {},
     "output_type": "execute_result"
    }
   ],
   "source": [
    "next(l)"
   ]
  },
  {
   "cell_type": "code",
   "execution_count": 298,
   "id": "9dca801b-6824-4527-8b2d-ea9cf48c0f37",
   "metadata": {},
   "outputs": [
    {
     "data": {
      "text/plain": [
       "4"
      ]
     },
     "execution_count": 298,
     "metadata": {},
     "output_type": "execute_result"
    }
   ],
   "source": [
    "next(l)"
   ]
  },
  {
   "cell_type": "code",
   "execution_count": 300,
   "id": "bff05165-be0f-4134-b836-e923910312f2",
   "metadata": {},
   "outputs": [
    {
     "data": {
      "text/plain": [
       "5"
      ]
     },
     "execution_count": 300,
     "metadata": {},
     "output_type": "execute_result"
    }
   ],
   "source": [
    "next(l)"
   ]
  },
  {
   "cell_type": "raw",
   "id": "7fc2e7f8-2266-41a2-a9d6-c42a2543d653",
   "metadata": {},
   "source": [
    "     Iterable's -: \n",
    "        Python object's / Sequential structure's / Data structure's that is capable of returining its members one at a time.\n",
    "        for e.g. : list's, tuple's, set's"
   ]
  },
  {
   "cell_type": "raw",
   "id": "b4543e76-9bcf-47da-9ae4-e4e232017cce",
   "metadata": {},
   "source": [
    "Q6] Explain the concept of generators in Python and how they are defined?\n",
    "Ans :Generator's -:\n",
    "        A generator function is defined just like a regular function but includes the yield keyword instead of return.\n",
    "\n",
    "        Working :\n",
    "        When a generator is called, it does not execute the function immediately. Instead, it returns a generator object. The function's code executes          only when next() is called or when it is iterated over (e.g., in a for loop).\n",
    "        Step-by-Step Execution:\n",
    "        Call the generator function to get a generator object.\n",
    "        Use next() or a loop to request the next value.\n",
    "        The generator resumes from where it left off, executes until the next yield, and pauses again.\n",
    "        This continues until the generator function exits, at which point a StopIteration exception is raised."
   ]
  },
  {
   "cell_type": "code",
   "execution_count": 310,
   "id": "a82ec9a9-5355-4f89-9444-447c75ddf0e5",
   "metadata": {},
   "outputs": [
    {
     "data": {
      "text/plain": [
       "<generator object square_Generator at 0x0000028E2784E740>"
      ]
     },
     "execution_count": 310,
     "metadata": {},
     "output_type": "execute_result"
    }
   ],
   "source": [
    "l = [1,2,3,4,5]\n",
    "def square_Generator(n):\n",
    "    for i in l:\n",
    "        yield i**2\n",
    "\n",
    "lis = square_Generator(l)\n",
    "lis"
   ]
  },
  {
   "cell_type": "code",
   "execution_count": 312,
   "id": "33103dbc-4ca3-4855-b1ae-ed4df937f748",
   "metadata": {},
   "outputs": [
    {
     "data": {
      "text/plain": [
       "1"
      ]
     },
     "execution_count": 312,
     "metadata": {},
     "output_type": "execute_result"
    }
   ],
   "source": [
    "next(lis)"
   ]
  },
  {
   "cell_type": "code",
   "execution_count": 314,
   "id": "44a4e635-b732-4145-b7fd-3060713b5ce0",
   "metadata": {},
   "outputs": [
    {
     "data": {
      "text/plain": [
       "4"
      ]
     },
     "execution_count": 314,
     "metadata": {},
     "output_type": "execute_result"
    }
   ],
   "source": [
    "next(lis)"
   ]
  },
  {
   "cell_type": "code",
   "execution_count": 316,
   "id": "816657d6-d3a8-42c3-998b-a9ef91afa6f7",
   "metadata": {},
   "outputs": [
    {
     "data": {
      "text/plain": [
       "9"
      ]
     },
     "execution_count": 316,
     "metadata": {},
     "output_type": "execute_result"
    }
   ],
   "source": [
    "next(lis)"
   ]
  },
  {
   "cell_type": "code",
   "execution_count": 318,
   "id": "cf0cd842-4b16-46a4-b2d6-00d483209d32",
   "metadata": {},
   "outputs": [
    {
     "data": {
      "text/plain": [
       "16"
      ]
     },
     "execution_count": 318,
     "metadata": {},
     "output_type": "execute_result"
    }
   ],
   "source": [
    "next(lis)"
   ]
  },
  {
   "cell_type": "code",
   "execution_count": 320,
   "id": "93080bdf-273c-44ba-b5c4-93edd3f83f3e",
   "metadata": {},
   "outputs": [
    {
     "data": {
      "text/plain": [
       "25"
      ]
     },
     "execution_count": 320,
     "metadata": {},
     "output_type": "execute_result"
    }
   ],
   "source": [
    "next(lis)"
   ]
  },
  {
   "cell_type": "raw",
   "id": "0412216d-c2ed-4a34-8f5f-6acf37165e35",
   "metadata": {},
   "source": [
    "Q7] What are the advantages of using generators over regular functions?\n",
    "        1} Generators produce values one by one, on-demand. This avoids storing the entire sequence in memory at once, making it memory efficient.\n",
    "        2} General functions are time consuming since they compute entierly at once, whereas generator yeild values one bye one when they are asked \n",
    "           Thus they are time saving."
   ]
  },
  {
   "cell_type": "raw",
   "id": "f2f86023-6177-4c7a-b41c-52f4cfba8c28",
   "metadata": {},
   "source": [
    "Q8] What is a lambda function in Python and when is it typically used?\n",
    "Ans :Lambda Function -:\n",
    "        Also called as Short, One-Line Functions.\n",
    "        Lambda functions are small, anonymous functions defined using the lambda keyword.\n",
    "        They are concise and typically used for simple, one-line operations.   \n",
    "        Syntax:\n",
    "            lambda arguments: expression"
   ]
  },
  {
   "cell_type": "code",
   "execution_count": 4,
   "id": "81c69ebd-9561-4110-a82d-3181cbb12488",
   "metadata": {},
   "outputs": [
    {
     "data": {
      "text/plain": [
       "100"
      ]
     },
     "execution_count": 4,
     "metadata": {},
     "output_type": "execute_result"
    }
   ],
   "source": [
    "square = lambda x : x**2\n",
    "square(10)"
   ]
  },
  {
   "cell_type": "raw",
   "id": "d0ab6204-01c0-4196-894f-dc3dfd3fa6f0",
   "metadata": {},
   "source": [
    "Q9]  Explain the purpose and usage of the `map()` function in Python.\n",
    "Ans :map() -:\n",
    "        The map() function in Python applies a given function to each item in an iterable (e.g., a list, tuple, or string) and returns an iterator with         the results. \n",
    "        It is used to perform operations on every element of an iterable without explicitly writing a loop.\n",
    "     Working -: \n",
    "        map() takes each element from the iterable(s).\n",
    "        It applies the provided function to that element.\n",
    "        It produces an iterator containing the results.\n",
    "     Syntax -:\n",
    "        map( function, iterable )"
   ]
  },
  {
   "cell_type": "code",
   "execution_count": 8,
   "id": "74a5923c-6161-4f4c-8af2-89be51fb35a8",
   "metadata": {},
   "outputs": [
    {
     "data": {
      "text/plain": [
       "[1, 4, 9, 16, 25, 36, 49, 64, 81, 100]"
      ]
     },
     "execution_count": 8,
     "metadata": {},
     "output_type": "execute_result"
    }
   ],
   "source": [
    "l = [1,2,3,4,5,6,7,8,9,10]\n",
    "list(map(lambda x : x ** 2, l))"
   ]
  },
  {
   "cell_type": "code",
   "execution_count": 16,
   "id": "00b8ed82-2aa0-4fed-a5b8-b192ef629d9b",
   "metadata": {},
   "outputs": [
    {
     "data": {
      "text/plain": [
       "[11, 12, 13, 14, 15, 16, 17, 18, 19, 20]"
      ]
     },
     "execution_count": 16,
     "metadata": {},
     "output_type": "execute_result"
    }
   ],
   "source": [
    "list(map(lambda x : x+10 , l))"
   ]
  },
  {
   "cell_type": "code",
   "execution_count": 18,
   "id": "505c7f67-c143-425c-a3da-a11993615558",
   "metadata": {},
   "outputs": [],
   "source": [
    "l = [1,2,3,4,5,6,7,8,9,10]"
   ]
  },
  {
   "cell_type": "code",
   "execution_count": 22,
   "id": "66324bb5-3602-427b-a589-a007768616a1",
   "metadata": {},
   "outputs": [
    {
     "data": {
      "text/plain": [
       "[1, 4, 9, 16, 25, 36, 49, 64, 81, 100]"
      ]
     },
     "execution_count": 22,
     "metadata": {},
     "output_type": "execute_result"
    }
   ],
   "source": [
    "# map function \n",
    "list(map(lambda x : x**2, l))"
   ]
  },
  {
   "cell_type": "code",
   "execution_count": 24,
   "id": "1e79fa70-fc48-46cc-a159-6a428b2409fe",
   "metadata": {},
   "outputs": [
    {
     "data": {
      "text/plain": [
       "[1, 8, 27, 64, 125, 216, 343, 512, 729, 1000]"
      ]
     },
     "execution_count": 24,
     "metadata": {},
     "output_type": "execute_result"
    }
   ],
   "source": [
    "list(map(lambda x : x**3, l))"
   ]
  },
  {
   "cell_type": "code",
   "execution_count": 50,
   "id": "0832af17-07c8-4712-859b-9466ad8ed155",
   "metadata": {},
   "outputs": [
    {
     "data": {
      "text/plain": [
       "6"
      ]
     },
     "execution_count": 50,
     "metadata": {},
     "output_type": "execute_result"
    }
   ],
   "source": [
    "# reduce function\n",
    "l = [1,2,3,4,5,6,7,8,9,10]\n",
    "from functools import reduce\n",
    "reduce(lambda x,y : x+y if x%2!=0 else x ,l)"
   ]
  },
  {
   "cell_type": "code",
   "execution_count": 54,
   "id": "3c416ee3-f8cb-471c-981c-430d1d71de8d",
   "metadata": {},
   "outputs": [
    {
     "data": {
      "text/plain": [
       "[2, 4, 6, 8, 10]"
      ]
     },
     "execution_count": 54,
     "metadata": {},
     "output_type": "execute_result"
    }
   ],
   "source": [
    "# filter function \n",
    "l = [1,2,3,4,5,6,7,8,9,10]\n",
    "list(filter(lambda x : x%2==0, l))"
   ]
  },
  {
   "cell_type": "code",
   "execution_count": 56,
   "id": "65c02d1e-d893-444f-ae73-5f91efd6eeff",
   "metadata": {},
   "outputs": [
    {
     "data": {
      "text/plain": [
       "[1, 3, 5, 7, 9]"
      ]
     },
     "execution_count": 56,
     "metadata": {},
     "output_type": "execute_result"
    }
   ],
   "source": [
    "list(filter(lambda x : x%2!=0, l))"
   ]
  },
  {
   "cell_type": "raw",
   "id": "5f042320-2c82-4947-9ce9-004d185af48b",
   "metadata": {},
   "source": [
    "Q10] What is the difference between `map()`, `reduce()`, and `filter()` functions in Python?\n",
    "Ans :map() -: \n",
    "        Applies a function to each item in an iterable and returns an iterator with the results\n",
    "        Syntax - map(function, iterable)\n",
    "     filter() -:\n",
    "        Filters elements from an iterable based on a function that returns True or False.\n",
    "        Syntax - filter(function, iterable)\n",
    "     reduce() -:\n",
    "        Applies a function cumulatively to the elements of an iterable, reducing it to a single value.\n",
    "        Can take only 2 arguments.\n",
    "        Syntax - reduce(function, iterable)"
   ]
  },
  {
   "attachments": {},
   "cell_type": "markdown",
   "id": "0abf5edd-ffb2-4a69-9132-46a9692cef2a",
   "metadata": {},
   "source": [
    "Q11] Using pen & Paper write the internal mechanism for sum operation using  reduce function on this given\n",
    "list:[47,11,42,13];"
   ]
  },
  {
   "cell_type": "code",
   "execution_count": 59,
   "id": "c102a5e6-658e-414d-a65f-9601d83305a6",
   "metadata": {},
   "outputs": [
    {
     "data": {
      "text/plain": [
       "113"
      ]
     },
     "execution_count": 59,
     "metadata": {},
     "output_type": "execute_result"
    }
   ],
   "source": [
    "l = [47,11,42,13]\n",
    "from functools import reduce\n",
    "reduce(lambda x,y : x+y , l)"
   ]
  },
  {
   "cell_type": "code",
   "execution_count": 1,
   "id": "7e7c96a4-3244-4a21-8893-3dc135a0ae51",
   "metadata": {},
   "outputs": [
    {
     "data": {
      "text/plain": [
       "30"
      ]
     },
     "execution_count": 1,
     "metadata": {},
     "output_type": "execute_result"
    }
   ],
   "source": [
    "# Q1] Write a Python function that takes a list of numbers as input and returns the sum of all even numbers in\n",
    "#     the list ?\n",
    "\n",
    "def sum_of_even(a):\n",
    "    s = 0\n",
    "    for i in a:\n",
    "        if(i % 2 == 0):\n",
    "            s = s + i\n",
    "    return s\n",
    "\n",
    "sum_of_even([1, 2, 3, 4, 5, 6, 7, 8, 9, 10])"
   ]
  },
  {
   "cell_type": "code",
   "execution_count": 2,
   "id": "43b5b380-acae-48ec-bd7f-a363bb7815eb",
   "metadata": {},
   "outputs": [
    {
     "data": {
      "text/plain": [
       "'jonaM'"
      ]
     },
     "execution_count": 2,
     "metadata": {},
     "output_type": "execute_result"
    }
   ],
   "source": [
    "# Q2] Create a Python function that accepts a string and returns the reverse of that string ?\n",
    "\n",
    "def reverse(string):\n",
    "    return string[::-1]\n",
    "\n",
    "reverse(\"Manoj\")\n",
    "    "
   ]
  },
  {
   "cell_type": "code",
   "execution_count": 3,
   "id": "8abf6e43-a12f-441c-a6ed-a77188d6071c",
   "metadata": {},
   "outputs": [
    {
     "data": {
      "text/plain": [
       "[4, 16, 36, 64, 100, 144, 196, 256, 324, 400]"
      ]
     },
     "execution_count": 3,
     "metadata": {},
     "output_type": "execute_result"
    }
   ],
   "source": [
    "# Q3] Implement a Python function that takes a list of integers and returns a new list containing the squares of\n",
    "#     each number.\n",
    "\n",
    "def square_of_num(a):\n",
    "    lis = []\n",
    "    for i in a :\n",
    "        lis.append(i ** 2)\n",
    "    return lis\n",
    "square_of_num([2, 4, 6, 8, 10, 12, 14, 16, 18, 20])"
   ]
  },
  {
   "cell_type": "code",
   "execution_count": 61,
   "id": "25e37e2d-3c42-455f-bcf9-6344c914ab41",
   "metadata": {},
   "outputs": [
    {
     "name": "stdout",
     "output_type": "stream",
     "text": [
      "[2, 3, 5, 7, 11, 13, 17, 19, 23, 29, 31, 37, 41, 43, 47, 53, 59, 61, 67, 71, 73, 79, 83, 89, 97, 101, 103, 107, 109, 113, 127, 131, 137, 139, 149, 151, 157, 163, 167, 173, 179, 181, 191, 193, 197, 199]\n"
     ]
    }
   ],
   "source": [
    "# Q4] Write a Python function that checks if a given number is prime or not from 1 to 200 ?\n",
    "def is_prime(num):\n",
    "    \"\"\"Check if a given number is prime.\"\"\"\n",
    "    if num <= 1:\n",
    "        return False  \n",
    "    for i in range(2, int(num**0.5) + 1):  \n",
    "        if num % i == 0:\n",
    "            return False\n",
    "    return True\n",
    "\n",
    "def primes_up_to_200():\n",
    "    \"\"\"Find and return all prime numbers from 1 to 200.\"\"\"\n",
    "    primes = []\n",
    "    for number in range(1, 201):\n",
    "        if is_prime(number):\n",
    "            primes.append(number)\n",
    "    return primes\n",
    "    \n",
    "print(primes_up_to_200())\n"
   ]
  },
  {
   "cell_type": "code",
   "execution_count": 22,
   "id": "b372269b-471c-49d2-b625-e16761c3e5d4",
   "metadata": {},
   "outputs": [
    {
     "data": {
      "text/plain": [
       "<generator object fibo at 0x0000028E26AADA80>"
      ]
     },
     "execution_count": 22,
     "metadata": {},
     "output_type": "execute_result"
    }
   ],
   "source": [
    "# Q5]  Create an iterator class in Python that generates the Fibonacci sequence up to a specified number of\n",
    "#      terms ?\n",
    "\n",
    "def fibo(n):\n",
    "    a = 0\n",
    "    b = 1\n",
    "    for i in range(n):\n",
    "        yield a\n",
    "        a, b = b, a + b\n",
    "\n",
    "fibonacci_series = fibo(10)\n",
    "fibonacci_series"
   ]
  },
  {
   "cell_type": "code",
   "execution_count": 24,
   "id": "7b2ebd5f-7645-4c9e-b5e9-09665714cd93",
   "metadata": {},
   "outputs": [
    {
     "data": {
      "text/plain": [
       "0"
      ]
     },
     "execution_count": 24,
     "metadata": {},
     "output_type": "execute_result"
    }
   ],
   "source": [
    "next(fibonacci_series)"
   ]
  },
  {
   "cell_type": "code",
   "execution_count": 26,
   "id": "3c481636-ee2b-48a5-9d73-ba75c8ecc13a",
   "metadata": {},
   "outputs": [
    {
     "data": {
      "text/plain": [
       "1"
      ]
     },
     "execution_count": 26,
     "metadata": {},
     "output_type": "execute_result"
    }
   ],
   "source": [
    "next(fibonacci_series)"
   ]
  },
  {
   "cell_type": "code",
   "execution_count": 28,
   "id": "ff548536-2c76-4d61-a07e-bc969231c6a8",
   "metadata": {},
   "outputs": [
    {
     "data": {
      "text/plain": [
       "1"
      ]
     },
     "execution_count": 28,
     "metadata": {},
     "output_type": "execute_result"
    }
   ],
   "source": [
    "next(fibonacci_series)"
   ]
  },
  {
   "cell_type": "code",
   "execution_count": 30,
   "id": "b063cc1a-b624-4c03-b927-4a0ffdd3d992",
   "metadata": {},
   "outputs": [
    {
     "data": {
      "text/plain": [
       "2"
      ]
     },
     "execution_count": 30,
     "metadata": {},
     "output_type": "execute_result"
    }
   ],
   "source": [
    "next(fibonacci_series)"
   ]
  },
  {
   "cell_type": "code",
   "execution_count": 32,
   "id": "16704aba-6307-45fe-9c92-46d6c1903874",
   "metadata": {},
   "outputs": [
    {
     "data": {
      "text/plain": [
       "3"
      ]
     },
     "execution_count": 32,
     "metadata": {},
     "output_type": "execute_result"
    }
   ],
   "source": [
    "next(fibonacci_series)"
   ]
  },
  {
   "cell_type": "code",
   "execution_count": 34,
   "id": "ac7f0d9b-33bb-4d3c-a2cc-291b8686b36c",
   "metadata": {},
   "outputs": [
    {
     "data": {
      "text/plain": [
       "5"
      ]
     },
     "execution_count": 34,
     "metadata": {},
     "output_type": "execute_result"
    }
   ],
   "source": [
    "next(fibonacci_series)"
   ]
  },
  {
   "cell_type": "code",
   "execution_count": 36,
   "id": "d760abcd-314d-40f8-a3c8-d83b4aa81776",
   "metadata": {},
   "outputs": [
    {
     "data": {
      "text/plain": [
       "8"
      ]
     },
     "execution_count": 36,
     "metadata": {},
     "output_type": "execute_result"
    }
   ],
   "source": [
    "next(fibonacci_series)"
   ]
  },
  {
   "cell_type": "code",
   "execution_count": 38,
   "id": "4c8469bd-a498-46d5-b757-31132713375f",
   "metadata": {},
   "outputs": [
    {
     "data": {
      "text/plain": [
       "13"
      ]
     },
     "execution_count": 38,
     "metadata": {},
     "output_type": "execute_result"
    }
   ],
   "source": [
    "next(fibonacci_series)"
   ]
  },
  {
   "cell_type": "code",
   "execution_count": 40,
   "id": "863f4750-4357-4b3c-9e62-ae976cc008f3",
   "metadata": {},
   "outputs": [
    {
     "data": {
      "text/plain": [
       "21"
      ]
     },
     "execution_count": 40,
     "metadata": {},
     "output_type": "execute_result"
    }
   ],
   "source": [
    "next(fibonacci_series)"
   ]
  },
  {
   "cell_type": "code",
   "execution_count": 42,
   "id": "449bcc56-c314-43e3-8302-bd4993e06cd2",
   "metadata": {},
   "outputs": [
    {
     "data": {
      "text/plain": [
       "34"
      ]
     },
     "execution_count": 42,
     "metadata": {},
     "output_type": "execute_result"
    }
   ],
   "source": [
    "next(fibonacci_series)"
   ]
  },
  {
   "cell_type": "code",
   "execution_count": 44,
   "id": "f3169298-9ab3-4bd2-ae20-1798cc5b3e94",
   "metadata": {},
   "outputs": [
    {
     "ename": "StopIteration",
     "evalue": "",
     "output_type": "error",
     "traceback": [
      "\u001b[1;31m---------------------------------------------------------------------------\u001b[0m",
      "\u001b[1;31mStopIteration\u001b[0m                             Traceback (most recent call last)",
      "Cell \u001b[1;32mIn[44], line 1\u001b[0m\n\u001b[1;32m----> 1\u001b[0m \u001b[38;5;28mnext\u001b[39m(fibonacci_series)\n",
      "\u001b[1;31mStopIteration\u001b[0m: "
     ]
    }
   ],
   "source": [
    "next(fibonacci_series)"
   ]
  },
  {
   "cell_type": "code",
   "execution_count": 60,
   "id": "f4cacb40-f42e-4203-8a98-5aee2f29e93e",
   "metadata": {},
   "outputs": [
    {
     "data": {
      "text/plain": [
       "[0, 1, 1, 2, 3, 5, 8, 13, 21, 34]"
      ]
     },
     "execution_count": 60,
     "metadata": {},
     "output_type": "execute_result"
    }
   ],
   "source": [
    "fibo = lambda n : n if n<=1 else fibo(n-1)+fibo(n-2)\n",
    "[fibo(i) for i in range(10)]"
   ]
  },
  {
   "cell_type": "code",
   "execution_count": 46,
   "id": "5dc51b76-bf74-4a3f-8f07-346c7d8698fb",
   "metadata": {},
   "outputs": [
    {
     "data": {
      "text/plain": [
       "<generator object power_of_2_GENERATOR at 0x0000028E26D5CBA0>"
      ]
     },
     "execution_count": 46,
     "metadata": {},
     "output_type": "execute_result"
    }
   ],
   "source": [
    "# Q6] Write a generator function in Python that yields the powers of 2 up to a given exponent ?\n",
    "\n",
    "def power_of_2_GENERATOR(n):\n",
    "    for i in range(n):\n",
    "        yield 2 ** i\n",
    "\n",
    "x = power_of_2_GENERATOR(5)\n",
    "x"
   ]
  },
  {
   "cell_type": "code",
   "execution_count": 48,
   "id": "abb55261-3da2-4c3d-9eae-0bf2ec64917e",
   "metadata": {},
   "outputs": [
    {
     "data": {
      "text/plain": [
       "1"
      ]
     },
     "execution_count": 48,
     "metadata": {},
     "output_type": "execute_result"
    }
   ],
   "source": [
    "next(x)"
   ]
  },
  {
   "cell_type": "code",
   "execution_count": 50,
   "id": "c5465773-5267-457a-bf2a-5518bdc7206d",
   "metadata": {},
   "outputs": [
    {
     "data": {
      "text/plain": [
       "2"
      ]
     },
     "execution_count": 50,
     "metadata": {},
     "output_type": "execute_result"
    }
   ],
   "source": [
    "next(x)"
   ]
  },
  {
   "cell_type": "code",
   "execution_count": 52,
   "id": "ed78729e-f306-4469-9496-4573a1ce37f7",
   "metadata": {},
   "outputs": [
    {
     "data": {
      "text/plain": [
       "4"
      ]
     },
     "execution_count": 52,
     "metadata": {},
     "output_type": "execute_result"
    }
   ],
   "source": [
    "next(x)"
   ]
  },
  {
   "cell_type": "code",
   "execution_count": 54,
   "id": "8ca9cfde-50cc-455d-aefc-5b50d09760c5",
   "metadata": {},
   "outputs": [
    {
     "data": {
      "text/plain": [
       "8"
      ]
     },
     "execution_count": 54,
     "metadata": {},
     "output_type": "execute_result"
    }
   ],
   "source": [
    "next(x)"
   ]
  },
  {
   "cell_type": "code",
   "execution_count": 56,
   "id": "97682506-0034-4884-b5a1-72a7fa5d6bf5",
   "metadata": {},
   "outputs": [
    {
     "data": {
      "text/plain": [
       "16"
      ]
     },
     "execution_count": 56,
     "metadata": {},
     "output_type": "execute_result"
    }
   ],
   "source": [
    "next(x)"
   ]
  },
  {
   "cell_type": "code",
   "execution_count": 58,
   "id": "210f76a2-36ea-4092-8f44-7902baaa638d",
   "metadata": {},
   "outputs": [
    {
     "ename": "StopIteration",
     "evalue": "",
     "output_type": "error",
     "traceback": [
      "\u001b[1;31m---------------------------------------------------------------------------\u001b[0m",
      "\u001b[1;31mStopIteration\u001b[0m                             Traceback (most recent call last)",
      "Cell \u001b[1;32mIn[58], line 1\u001b[0m\n\u001b[1;32m----> 1\u001b[0m \u001b[38;5;28mnext\u001b[39m(x)\n",
      "\u001b[1;31mStopIteration\u001b[0m: "
     ]
    }
   ],
   "source": [
    "next(x)"
   ]
  },
  {
   "cell_type": "code",
   "execution_count": 62,
   "id": "d59441f9-6b52-43f2-b40c-278bb12e87fe",
   "metadata": {},
   "outputs": [],
   "source": [
    "# Q7] Implement a generator function that reads a file line by line and yields each line as a string ?\n"
   ]
  },
  {
   "cell_type": "code",
   "execution_count": 197,
   "id": "19564002-c9e5-468a-a18d-d4aff7abd82c",
   "metadata": {},
   "outputs": [
    {
     "data": {
      "text/plain": [
       "[(3, 1), (4, 3), (8, 6), (2, 8), (1, 9)]"
      ]
     },
     "execution_count": 197,
     "metadata": {},
     "output_type": "execute_result"
    }
   ],
   "source": [
    "# Q8] Use a lambda function in Python to sort a list of tuples based on the second element of each tuple ? \n",
    "l = [(2,8), (4,3), (8,6), (3,1), (1,9)]\n",
    "# Syntax : sorted(x,key)\n",
    "sort = sorted(l,key = lambda x: x[1])\n",
    "sort"
   ]
  },
  {
   "cell_type": "code",
   "execution_count": 231,
   "id": "dbfb01e1-a03e-4254-8eea-99f879c88b14",
   "metadata": {},
   "outputs": [
    {
     "data": {
      "text/plain": [
       "[77.0, 122.0, 212.0, 32.0]"
      ]
     },
     "execution_count": 231,
     "metadata": {},
     "output_type": "execute_result"
    }
   ],
   "source": [
    "# Q9]Write a Python program that uses `map()` to convert a list of temperatures from Celsius to Fahrenheit?\n",
    "l = [25, 50, 100, 0]\n",
    "# using regular function\n",
    "def C_to_F(n):\n",
    "    return ((n * 9/5)+32)\n",
    "\n",
    "list(map(C_to_F,l))"
   ]
  },
  {
   "cell_type": "code",
   "execution_count": 235,
   "id": "329f2cde-e960-41f3-b44b-6f887b65623f",
   "metadata": {},
   "outputs": [
    {
     "data": {
      "text/plain": [
       "[77.0, 122.0, 212.0, 32.0]"
      ]
     },
     "execution_count": 235,
     "metadata": {},
     "output_type": "execute_result"
    }
   ],
   "source": [
    "# using lambda function \n",
    "list(map(lambda x : ((x*9/5)+32), l))"
   ]
  },
  {
   "cell_type": "code",
   "execution_count": 217,
   "id": "069071db-eb97-43aa-a1ff-86c4f906b930",
   "metadata": {},
   "outputs": [
    {
     "data": {
      "text/plain": [
       "['a', 'o']"
      ]
     },
     "execution_count": 217,
     "metadata": {},
     "output_type": "execute_result"
    }
   ],
   "source": [
    "# Q10] Create a Python program that uses `filter()` to remove all the vowels from a given string?\n",
    "def is_vowel(x):\n",
    "    return x in 'aeiouAEIOU'\n",
    "\n",
    "s = \"Manoj\"\n",
    "list(filter(is_vowel,s))\n",
    "            "
   ]
  },
  {
   "cell_type": "code",
   "execution_count": 219,
   "id": "c7d81893-dd30-4c89-9028-2cb0f1fc3c7f",
   "metadata": {},
   "outputs": [
    {
     "data": {
      "text/plain": [
       "['a', 'o']"
      ]
     },
     "execution_count": 219,
     "metadata": {},
     "output_type": "execute_result"
    }
   ],
   "source": [
    "s = \"Manoj\"\n",
    "list(filter(lambda x : x in 'aeiouAEIOU',s))"
   ]
  },
  {
   "cell_type": "code",
   "execution_count": 253,
   "id": "4d284ad2-23a0-47c7-991f-cc8836e582d9",
   "metadata": {},
   "outputs": [
    {
     "data": {
      "text/plain": [
       "(163.8, 284.0, 108.85000000000001, 84.97)"
      ]
     },
     "execution_count": 253,
     "metadata": {},
     "output_type": "execute_result"
    }
   ],
   "source": [
    "# Q11]  Imagine an accounting routine used in a book shop. It works on a list with sublists, which look like this:\n",
    "#       Write a Python program, which returns a list with 2-tuples. Each tuple consists of the order number and the\n",
    "#       product of the price per item and the quantity. The product should be increased by 10,- € if the value of the\n",
    "#       order is smaller than 100,00 €.\n",
    "\n",
    "Write a Python program using lambda and map.\n",
    "Order_Number = [34587, 98762, 77226, 88112]\n",
    "Quantity = [4, 5, 3, 3]\n",
    "Price_per_item = [40.95, 56.80, 32.95, 24.99] \n",
    "\n",
    "t1 = tuple(Order_Number)\n",
    "l2 = list(map(lambda x,y : x*y , Quantity, Price_per_item))\n",
    "\n",
    "t2 = tuple(map(lambda x : x + 10 if x < 100.00 else x , l2))\n"
   ]
  },
  {
   "cell_type": "code",
   "execution_count": 267,
   "id": "5be29214-100e-499b-86ff-4f96f6ad009a",
   "metadata": {},
   "outputs": [
    {
     "data": {
      "text/plain": [
       "((34587, 98762, 77226, 88112), (163.8, 284.0, 98.85000000000001, 74.97))"
      ]
     },
     "execution_count": 267,
     "metadata": {},
     "output_type": "execute_result"
    }
   ],
   "source": [
    "lis = (t1,t2)\n",
    "lis"
   ]
  },
  {
   "cell_type": "code",
   "execution_count": 271,
   "id": "0714c531-d7da-49c7-87a6-d828c5de6eb9",
   "metadata": {},
   "outputs": [
    {
     "data": {
      "text/plain": [
       "[(34587, 98762, 77226, 88112), (163.8, 284.0, 98.85000000000001, 74.97)]"
      ]
     },
     "execution_count": 271,
     "metadata": {},
     "output_type": "execute_result"
    }
   ],
   "source": [
    "list(lis)"
   ]
  },
  {
   "cell_type": "code",
   "execution_count": null,
   "id": "c409a6f2-ed0d-44c3-a473-0ac6254b33af",
   "metadata": {},
   "outputs": [],
   "source": []
  }
 ],
 "metadata": {
  "kernelspec": {
   "display_name": "Python 3 (ipykernel)",
   "language": "python",
   "name": "python3"
  },
  "language_info": {
   "codemirror_mode": {
    "name": "ipython",
    "version": 3
   },
   "file_extension": ".py",
   "mimetype": "text/x-python",
   "name": "python",
   "nbconvert_exporter": "python",
   "pygments_lexer": "ipython3",
   "version": "3.12.7"
  }
 },
 "nbformat": 4,
 "nbformat_minor": 5
}
